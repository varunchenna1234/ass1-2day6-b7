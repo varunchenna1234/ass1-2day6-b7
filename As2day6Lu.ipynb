{
  "nbformat": 4,
  "nbformat_minor": 0,
  "metadata": {
    "colab": {
      "name": "As2day6Lu.ipynb",
      "provenance": [],
      "authorship_tag": "ABX9TyPw0DFcNsA1cq89Qz8qjrMk",
      "include_colab_link": true
    },
    "kernelspec": {
      "name": "python3",
      "display_name": "Python 3"
    }
  },
  "cells": [
    {
      "cell_type": "markdown",
      "metadata": {
        "id": "view-in-github",
        "colab_type": "text"
      },
      "source": [
        "<a href=\"https://colab.research.google.com/github/varunchenna1234/ass1-2day6-b7/blob/master/As2day6Lu.ipynb\" target=\"_parent\"><img src=\"https://colab.research.google.com/assets/colab-badge.svg\" alt=\"Open In Colab\"/></a>"
      ]
    },
    {
      "cell_type": "markdown",
      "metadata": {
        "id": "J5R9Uj4Qrzem",
        "colab_type": "text"
      },
      "source": [
        "Assignment-1 Day(6)-Batch7"
      ]
    },
    {
      "cell_type": "code",
      "metadata": {
        "id": "FRfEP7HRr641",
        "colab_type": "code",
        "colab": {
          "base_uri": "https://localhost:8080/",
          "height": 221
        },
        "outputId": "e7a078bb-4e70-4be3-ef24-55e5b064745e"
      },
      "source": [
        "class bankaccount:\n",
        "    def __init__(self,ownername,balance):\n",
        "        self.ownername=ownername\n",
        "        self.balance=balance\n",
        "    def deposit(self,amt):\n",
        "        self.amt=amt\n",
        "        totalbal=self.amt+self.balance\n",
        "        print(\"Available balance is \")\n",
        "        print(totalbal)\n",
        "        self.balance=totalbal\n",
        "    def withdrawl(self,amtwd):\n",
        "        self.amtwd=amtwd\n",
        "        totalbal=(self.balance-self.amtwd)\n",
        "\n",
        "        if self.amtwd<=self.balance:\n",
        "            print(\"Amount withdrawl is \")\n",
        "            print(self.amtwd)\n",
        "            print(\"Remaining Balance is \")\n",
        "            print(totalbal)\n",
        "            self.balance=totalbal\n",
        "        else:\n",
        "            print(\"Insufficient amount\")\n",
        "\n",
        "\n",
        "B=bankaccount('varun',2000)\n",
        "B.withdrawl(500)\n",
        "B.deposit(1000)\n",
        "B.withdrawl(3000)\n",
        "B.withdrawl(2500)\n",
        "B.balance"
      ],
      "execution_count": 42,
      "outputs": [
        {
          "output_type": "stream",
          "text": [
            "Amount withdrawl is \n",
            "500\n",
            "Remaining Balance is \n",
            "1500\n",
            "Available balance is \n",
            "2500\n",
            "Insufficient amount\n",
            "Amount withdrawl is \n",
            "2500\n",
            "Remaining Balance is \n",
            "0\n"
          ],
          "name": "stdout"
        },
        {
          "output_type": "execute_result",
          "data": {
            "text/plain": [
              "0"
            ]
          },
          "metadata": {
            "tags": []
          },
          "execution_count": 42
        }
      ]
    },
    {
      "cell_type": "markdown",
      "metadata": {
        "id": "iqDKUqavrpKs",
        "colab_type": "text"
      },
      "source": [
        "Assignment-2 Day(6)-Batch7"
      ]
    },
    {
      "cell_type": "code",
      "metadata": {
        "id": "OUrIPX5H42WN",
        "colab_type": "code",
        "colab": {
          "base_uri": "https://localhost:8080/",
          "height": 68
        },
        "outputId": "e19e5931-05d7-4561-a4b5-b0edbae39b4b"
      },
      "source": [
        "import math\n",
        "pi=math.pi\n",
        "class cone:\n",
        "    def __init__(self,radius,height):\n",
        "        self.radius=radius\n",
        "        self.height=height\n",
        "    def volume(self):\n",
        "        print((1/3)*pi*self.radius*self.radius*self.height)\n",
        "    def surfacearea(self):\n",
        "        print(pi*self.radius*self.radius)\n",
        "        print(pi*self.radius*((self.radius*self.radius)+(self.height*self.height))**0.5)\n",
        "        \n",
        "\n",
        "c=cone(4,6)\n",
        "c.height\n",
        "c.radius\n",
        "c.volume()\n",
        "c.surfacearea()\n"
      ],
      "execution_count": 23,
      "outputs": [
        {
          "output_type": "stream",
          "text": [
            "100.53096491487338\n",
            "50.26548245743669\n",
            "90.61738719311181\n"
          ],
          "name": "stdout"
        }
      ]
    },
    {
      "cell_type": "code",
      "metadata": {
        "id": "WNVLSB5snZ_h",
        "colab_type": "code",
        "colab": {}
      },
      "source": [
        ""
      ],
      "execution_count": null,
      "outputs": []
    }
  ]
}